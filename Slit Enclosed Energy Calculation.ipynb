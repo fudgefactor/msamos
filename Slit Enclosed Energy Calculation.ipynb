{
 "cells": [
  {
   "cell_type": "code",
   "execution_count": 7,
   "metadata": {
    "collapsed": false
   },
   "outputs": [],
   "source": [
    "import numpy as np;\n",
    "import matplotlib.pyplot as plt;\n",
    "import scipy.ndimage.filters as flt;\n",
    "%matplotlib inline"
   ]
  },
  {
   "cell_type": "markdown",
   "metadata": {},
   "source": [
    "Function to compute cummulative distribution of 1D slit image."
   ]
  },
  {
   "cell_type": "code",
   "execution_count": 43,
   "metadata": {
    "collapsed": true
   },
   "outputs": [],
   "source": [
    "def cummulativeDist(input):\n",
    "    size = len(input)\n",
    "    \n",
    "    cummulativeDistVals = np.zeros(size)\n",
    "    \n",
    "    cummulativeDistVals[0] = input[0]\n",
    "    for i in range(1,size):\n",
    "        cummulativeDistVals[i] = cummulativeDistVals[i-1]+input[i]\n",
    "        \n",
    "    return(cummulativeDistVals/np.sum(input))"
   ]
  },
  {
   "cell_type": "markdown",
   "metadata": {},
   "source": [
    "# Generate Slit Function"
   ]
  },
  {
   "cell_type": "markdown",
   "metadata": {},
   "source": [
    "The slit width will be 16 pixels wide to aid with the computation."
   ]
  },
  {
   "cell_type": "code",
   "execution_count": 25,
   "metadata": {
    "collapsed": false
   },
   "outputs": [],
   "source": [
    "slit_width = 2;\n",
    "magnification = 8;\n",
    "function_size = 101;\n",
    "slit = np.zeros(function_size);\n",
    "slit[((function_size-1)/2-(slit_width*magnification)/2):((function_size-1)/2+(slit_width*magnification)/2)] = 1;\n",
    "x = np.arange(function_size)"
   ]
  },
  {
   "cell_type": "code",
   "execution_count": 12,
   "metadata": {
    "collapsed": false
   },
   "outputs": [
    {
     "data": {
      "text/plain": [
       "[<matplotlib.lines.Line2D at 0x1197713d0>]"
      ]
     },
     "execution_count": 12,
     "metadata": {},
     "output_type": "execute_result"
    },
    {
     "data": {
      "image/png": "[encoded data removed]",
      "text/plain": [
       "<matplotlib.figure.Figure at 0x11961e150>"
      ]
     },
     "metadata": {},
     "output_type": "display_data"
    }
   ],
   "source": [
    "plt.plot(slit,'o-')"
   ]
  },
  {
   "cell_type": "markdown",
   "metadata": {},
   "source": [
    "Pixel Size and RMS values from Zemax"
   ]
  },
  {
   "cell_type": "code",
   "execution_count": 14,
   "metadata": {
    "collapsed": true
   },
   "outputs": [],
   "source": [
    "pixel_size = 18.0;\n",
    "yband_rms = 9.86;\n",
    "jband_rms = 9.79;\n",
    "hband_rms = 10.08;\n",
    "kband_rms = 12.22;"
   ]
  },
  {
   "cell_type": "markdown",
   "metadata": {},
   "source": [
    "Convert to $\\sigma$ and magnified pixel values for convolution."
   ]
  },
  {
   "cell_type": "code",
   "execution_count": 63,
   "metadata": {
    "collapsed": false
   },
   "outputs": [],
   "source": [
    "yband_sigma = yband_rms*magnification/pixel_size\n",
    "jband_sigma = jband_rms*magnification/pixel_size\n",
    "hband_sigma = hband_rms*magnification/pixel_size\n",
    "kband_sigma = kband_rms*magnification/pixel_size"
   ]
  },
  {
   "cell_type": "markdown",
   "metadata": {},
   "source": [
    "Y-band Slit Width Calculation Using a 1D Gaussian Convolution:"
   ]
  },
  {
   "cell_type": "code",
   "execution_count": 64,
   "metadata": {
    "collapsed": true
   },
   "outputs": [],
   "source": [
    "yout = flt.gaussian_filter1d(slit,yband_sigma)"
   ]
  },
  {
   "cell_type": "code",
   "execution_count": 65,
   "metadata": {
    "collapsed": false
   },
   "outputs": [
    {
     "data": {
      "text/plain": [
       "[<matplotlib.lines.Line2D at 0x11a8ecb50>,\n",
       " <matplotlib.lines.Line2D at 0x11a8ecc90>]"
      ]
     },
     "execution_count": 65,
     "metadata": {},
     "output_type": "execute_result"
    },
    {
     "data": {
      "image/png": "[encoded data removed]",
      "text/plain": [
       "<matplotlib.figure.Figure at 0x11a52b0d0>"
      ]
     },
     "metadata": {},
     "output_type": "display_data"
    }
   ],
   "source": [
    "plt.plot(slit,'bo-',yout,'ro-')"
   ]
  },
  {
   "cell_type": "code",
   "execution_count": 66,
   "metadata": {
    "collapsed": false
   },
   "outputs": [
    {
     "data": {
      "text/plain": [
       "(30, 70)"
      ]
     },
     "execution_count": 66,
     "metadata": {},
     "output_type": "execute_result"
    },
    {
     "data": {
      "image/png": "[encoded data removed]",
      "text/plain": [
       "<matplotlib.figure.Figure at 0x11a838810>"
      ]
     },
     "metadata": {},
     "output_type": "display_data"
    }
   ],
   "source": [
    "plt.plot(cummulativeDist(slit),'bo-',cummulativeDist(yout),'ro-')\n",
    "plt.xlim(30,70)"
   ]
  },
  {
   "cell_type": "markdown",
   "metadata": {},
   "source": [
    "Y-band energy enclosed within 2-pixel slit:"
   ]
  },
  {
   "cell_type": "code",
   "execution_count": 67,
   "metadata": {
    "collapsed": false
   },
   "outputs": [
    {
     "name": "stdout",
     "output_type": "stream",
     "text": [
      "0.776770838109\n"
     ]
    }
   ],
   "source": [
    "yslitimg = cummulativeDist(yout)\n",
    "print(yslitimg[((function_size-1)/2+(slit_width*magnification)/2)]-yslitimg[((function_size-1)/2-(slit_width*magnification)/2)])"
   ]
  },
  {
   "cell_type": "markdown",
   "metadata": {},
   "source": [
    "J-band energy enclosed within 2-pixel slit:"
   ]
  },
  {
   "cell_type": "code",
   "execution_count": 68,
   "metadata": {
    "collapsed": false
   },
   "outputs": [
    {
     "name": "stdout",
     "output_type": "stream",
     "text": [
      "0.778311204515\n"
     ]
    }
   ],
   "source": [
    "jout = flt.gaussian_filter1d(slit,jband_sigma)\n",
    "jslitimg = cummulativeDist(jout)\n",
    "print(jslitimg[((function_size-1)/2+(slit_width*magnification)/2)]-jslitimg[((function_size-1)/2-(slit_width*magnification)/2)])"
   ]
  },
  {
   "cell_type": "markdown",
   "metadata": {},
   "source": [
    "H-band energy enclosed within 2-pixel slit:"
   ]
  },
  {
   "cell_type": "code",
   "execution_count": 69,
   "metadata": {
    "collapsed": false
   },
   "outputs": [
    {
     "name": "stdout",
     "output_type": "stream",
     "text": [
      "0.772016211944\n"
     ]
    }
   ],
   "source": [
    "hout = flt.gaussian_filter1d(slit,hband_sigma)\n",
    "hslitimg = cummulativeDist(hout)\n",
    "print(hslitimg[((function_size-1)/2+(slit_width*magnification)/2)]-hslitimg[((function_size-1)/2-(slit_width*magnification)/2)])"
   ]
  },
  {
   "cell_type": "markdown",
   "metadata": {},
   "source": [
    "K-band energy enclosed within 2-pixel slit:"
   ]
  },
  {
   "cell_type": "code",
   "execution_count": 70,
   "metadata": {
    "collapsed": false
   },
   "outputs": [
    {
     "name": "stdout",
     "output_type": "stream",
     "text": [
      "0.72572591519\n"
     ]
    }
   ],
   "source": [
    "kout = flt.gaussian_filter1d(slit,kband_sigma)\n",
    "kslitimg = cummulativeDist(kout)\n",
    "print(kslitimg[((function_size-1)/2+(slit_width*magnification)/2)]-kslitimg[((function_size-1)/2-(slit_width*magnification)/2)])"
   ]
  },
  {
   "cell_type": "code",
   "execution_count": null,
   "metadata": {
    "collapsed": true
   },
   "outputs": [],
   "source": []
  }
 ],
 "metadata": {
  "kernelspec": {
   "display_name": "Python 2",
   "language": "python",
   "name": "python2"
  },
  "language_info": {
   "codemirror_mode": {
    "name": "ipython",
    "version": 2
   },
   "file_extension": ".py",
   "mimetype": "text/x-python",
   "name": "python",
   "nbconvert_exporter": "python",
   "pygments_lexer": "ipython2",
   "version": "2.7.12"
  }
 },
 "nbformat": 4,
 "nbformat_minor": 0
}
